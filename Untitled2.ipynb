{
 "cells": [
  {
   "cell_type": "code",
   "execution_count": 7,
   "id": "bf9dd4c4-2432-4eba-aed4-cc6efc5e7496",
   "metadata": {},
   "outputs": [
    {
     "name": "stdout",
     "output_type": "stream",
     "text": [
      "[1 2 3]\n"
     ]
    }
   ],
   "source": [
    "import numpy as np\n",
    "arr=np.array([1,2,3])\n",
    "print(arr)"
   ]
  },
  {
   "cell_type": "code",
   "execution_count": 11,
   "id": "8488ff23-a68a-46ee-8d81-077fb030aa17",
   "metadata": {},
   "outputs": [
    {
     "name": "stdout",
     "output_type": "stream",
     "text": [
      "x1: [1 3 0 7]\n",
      "x2: [2 0 1 1]\n"
     ]
    }
   ],
   "source": [
    "x1=np.array([1,3,0,7])\n",
    "x2=np.array([2,0,1,1])\n",
    "print(\"x1:\",x1)\n",
    "print(\"x2:\",x2)"
   ]
  },
  {
   "cell_type": "code",
   "execution_count": 13,
   "id": "56fa44f0-0fe7-4d2e-970e-e3d1ec638eb4",
   "metadata": {},
   "outputs": [
    {
     "name": "stdout",
     "output_type": "stream",
     "text": [
      "(2, 4)\n",
      "(2, 2, 2)\n"
     ]
    }
   ],
   "source": [
    " import numpy as npy\n",
    " \n",
    "arr1 = npy.array([[1, 3, 5, 7], [2, 4, 6, 8]])\n",
    "\n",
    "arr2 = npy.array([[[1, 2], [3, 4]], [[5, 6], [7, 8]]])\n",
    " \n",
    "print(arr1.shape)\n",
    "print(arr2.shape)\n"
   ]
  },
  {
   "cell_type": "code",
   "execution_count": 15,
   "id": "8a002dbd-f193-4b14-8ed5-4359bc9003bc",
   "metadata": {},
   "outputs": [
    {
     "name": "stdout",
     "output_type": "stream",
     "text": [
      "1\n"
     ]
    }
   ],
   "source": [
    " import numpy as geek \n",
    "  \n",
    "arr = geek.array([1, 2, 3, 4]) \n",
    "  \n",
    "gfg = arr.ndim \n",
    "  \n",
    "print (gfg)"
   ]
  },
  {
   "cell_type": "code",
   "execution_count": 17,
   "id": "d8eb782e-8716-4fcb-a86e-081d96f1e1c6",
   "metadata": {},
   "outputs": [
    {
     "name": "stdout",
     "output_type": "stream",
     "text": [
      "[1. 2.]\n",
      "\n",
      "float64\n"
     ]
    }
   ],
   "source": [
    "import numpy as np \n",
    "          \n",
    " \n",
    "gfg = np.array([1 + 2j, 2 + 3j]) \n",
    "          \n",
    "geeks = np.real(gfg) \n",
    "    \n",
    "print(geeks, end ='\\n\\n') \n",
    "print(np.real(geeks).dtype)"
   ]
  },
  {
   "cell_type": "code",
   "execution_count": null,
   "id": "4d769b44-c5ed-4a30-9433-c23f45d1980c",
   "metadata": {},
   "outputs": [],
   "source": []
  }
 ],
 "metadata": {
  "kernelspec": {
   "display_name": "Python 3 (ipykernel)",
   "language": "python",
   "name": "python3"
  },
  "language_info": {
   "codemirror_mode": {
    "name": "ipython",
    "version": 3
   },
   "file_extension": ".py",
   "mimetype": "text/x-python",
   "name": "python",
   "nbconvert_exporter": "python",
   "pygments_lexer": "ipython3",
   "version": "3.12.4"
  }
 },
 "nbformat": 4,
 "nbformat_minor": 5
}
